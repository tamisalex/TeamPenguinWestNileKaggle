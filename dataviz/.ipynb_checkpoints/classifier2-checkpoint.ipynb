{
 "cells": [
  {
   "cell_type": "code",
   "execution_count": 44,
   "metadata": {
    "collapsed": true
   },
   "outputs": [],
   "source": [
    "import pandas as pd\n",
    "import numpy as np\n",
    "\n",
    "from sklearn.preprocessing import MinMaxScaler, StandardScaler\n",
    "from sklearn.cross_validation import KFold, cross_val_score\n",
    "from sklearn.tree import DecisionTreeRegressor\n",
    "from sklearn.tree import DecisionTreeClassifier\n",
    "from sklearn.ensemble import RandomForestClassifier, AdaBoostClassifier\n",
    "from sklearn.cross_validation import train_test_split\n",
    "from sklearn.preprocessing import LabelEncoder\n",
    "from sklearn.grid_search import GridSearchCV\n",
    "from sklearn import metrics\n",
    "from sklearn.metrics import confusion_matrix\n",
    "from sklearn.metrics import r2_score\n",
    "from sklearn.cross_validation import cross_val_score\n",
    "from sklearn.tree import export_graphviz\n",
    "from sklearn.externals.six import StringIO\n",
    "\n",
    "from IPython.display import Image\n",
    "import pydot\n",
    "import matplotlib.pyplot as plt\n",
    "import seaborn as sns\n",
    "%matplotlib inline"
   ]
  },
  {
   "cell_type": "code",
   "execution_count": 45,
   "metadata": {
    "collapsed": true
   },
   "outputs": [],
   "source": [
    "df = pd.read_csv('../assets/trainWeather.csv')"
   ]
  },
  {
   "cell_type": "code",
   "execution_count": 46,
   "metadata": {
    "collapsed": false
   },
   "outputs": [
    {
     "data": {
      "text/html": [
       "<div>\n",
       "<table border=\"1\" class=\"dataframe\">\n",
       "  <thead>\n",
       "    <tr style=\"text-align: right;\">\n",
       "      <th></th>\n",
       "      <th>Date</th>\n",
       "      <th>Species</th>\n",
       "      <th>Latitude</th>\n",
       "      <th>Longitude</th>\n",
       "      <th>AddressAccuracy</th>\n",
       "      <th>NumMosquitos</th>\n",
       "      <th>WnvPresent</th>\n",
       "      <th>Tmax_x</th>\n",
       "      <th>Tmin_x</th>\n",
       "      <th>Tavg_x</th>\n",
       "      <th>Depart_x</th>\n",
       "      <th>DewPoint_x</th>\n",
       "      <th>WetBulb_x</th>\n",
       "      <th>Heat_x</th>\n",
       "      <th>Cool_x</th>\n",
       "      <th>Sunrise_x</th>\n",
       "      <th>Sunset_x</th>\n",
       "      <th>Depth_x</th>\n",
       "      <th>Water1_x</th>\n",
       "      <th>SnowFall_x</th>\n",
       "      <th>PrecipTotal_x</th>\n",
       "      <th>StnPressure_x</th>\n",
       "      <th>SeaLevel_x</th>\n",
       "      <th>ResultSpeed_x</th>\n",
       "      <th>ResultDir_x</th>\n",
       "      <th>AvgSpeed_x</th>\n",
       "      <th>Tmax_y</th>\n",
       "      <th>Tmin_y</th>\n",
       "      <th>Tavg_y</th>\n",
       "      <th>Depart_y</th>\n",
       "      <th>DewPoint_y</th>\n",
       "      <th>WetBulb_y</th>\n",
       "      <th>Heat_y</th>\n",
       "      <th>Cool_y</th>\n",
       "      <th>Sunrise_y</th>\n",
       "      <th>Sunset_y</th>\n",
       "      <th>Depth_y</th>\n",
       "      <th>Water1_y</th>\n",
       "      <th>SnowFall_y</th>\n",
       "      <th>PrecipTotal_y</th>\n",
       "      <th>StnPressure_y</th>\n",
       "      <th>SeaLevel_y</th>\n",
       "      <th>ResultSpeed_y</th>\n",
       "      <th>ResultDir_y</th>\n",
       "      <th>AvgSpeed_y</th>\n",
       "    </tr>\n",
       "  </thead>\n",
       "  <tbody>\n",
       "    <tr>\n",
       "      <th>0</th>\n",
       "      <td>2007-05-29</td>\n",
       "      <td>0</td>\n",
       "      <td>41.95469</td>\n",
       "      <td>-87.800991</td>\n",
       "      <td>9</td>\n",
       "      <td>1</td>\n",
       "      <td>0</td>\n",
       "      <td>88</td>\n",
       "      <td>60</td>\n",
       "      <td>74</td>\n",
       "      <td>10</td>\n",
       "      <td>58</td>\n",
       "      <td>65</td>\n",
       "      <td>0</td>\n",
       "      <td>9</td>\n",
       "      <td>421</td>\n",
       "      <td>1917</td>\n",
       "      <td>0</td>\n",
       "      <td>0</td>\n",
       "      <td>0.0</td>\n",
       "      <td>0.00</td>\n",
       "      <td>29.39</td>\n",
       "      <td>30.11</td>\n",
       "      <td>5.8</td>\n",
       "      <td>18</td>\n",
       "      <td>6.5</td>\n",
       "      <td>88</td>\n",
       "      <td>65</td>\n",
       "      <td>77</td>\n",
       "      <td>0</td>\n",
       "      <td>59</td>\n",
       "      <td>66</td>\n",
       "      <td>0</td>\n",
       "      <td>12</td>\n",
       "      <td>0</td>\n",
       "      <td>0</td>\n",
       "      <td>0</td>\n",
       "      <td>0</td>\n",
       "      <td>0</td>\n",
       "      <td>0.00</td>\n",
       "      <td>29.44</td>\n",
       "      <td>30.09</td>\n",
       "      <td>5.8</td>\n",
       "      <td>16</td>\n",
       "      <td>7.4</td>\n",
       "    </tr>\n",
       "  </tbody>\n",
       "</table>\n",
       "</div>"
      ],
      "text/plain": [
       "         Date  Species  Latitude  Longitude  AddressAccuracy  NumMosquitos  \\\n",
       "0  2007-05-29        0  41.95469 -87.800991                9             1   \n",
       "\n",
       "   WnvPresent  Tmax_x  Tmin_x  Tavg_x  Depart_x  DewPoint_x  WetBulb_x  \\\n",
       "0           0      88      60      74        10          58         65   \n",
       "\n",
       "   Heat_x  Cool_x  Sunrise_x  Sunset_x  Depth_x  Water1_x SnowFall_x  \\\n",
       "0       0       9        421      1917        0         0        0.0   \n",
       "\n",
       "  PrecipTotal_x  StnPressure_x  SeaLevel_x  ResultSpeed_x  ResultDir_x  \\\n",
       "0          0.00          29.39       30.11            5.8           18   \n",
       "\n",
       "   AvgSpeed_x  Tmax_y  Tmin_y  Tavg_y  Depart_y  DewPoint_y  WetBulb_y  \\\n",
       "0         6.5      88      65      77         0          59         66   \n",
       "\n",
       "   Heat_y  Cool_y  Sunrise_y  Sunset_y  Depth_y  Water1_y  SnowFall_y  \\\n",
       "0       0      12          0         0        0         0           0   \n",
       "\n",
       "  PrecipTotal_y  StnPressure_y  SeaLevel_y  ResultSpeed_y  ResultDir_y  \\\n",
       "0          0.00          29.44       30.09            5.8           16   \n",
       "\n",
       "   AvgSpeed_y  \n",
       "0         7.4  "
      ]
     },
     "execution_count": 46,
     "metadata": {},
     "output_type": "execute_result"
    }
   ],
   "source": [
    "pd.set_option('display.max_columns', None)\n",
    "df.head(1)"
   ]
  },
  {
   "cell_type": "code",
   "execution_count": 47,
   "metadata": {
    "collapsed": true
   },
   "outputs": [],
   "source": [
    "y = df['WnvPresent']\n",
    "X = df.drop(['WnvPresent','Latitude','Longitude'], axis = 1)"
   ]
  },
  {
   "cell_type": "code",
   "execution_count": 48,
   "metadata": {
    "collapsed": true
   },
   "outputs": [],
   "source": [
    "X['SnowFall_x'] = X['SnowFall_x'].map({'  T' : 1} )\n",
    "X['PrecipTotal_x'] = X['PrecipTotal_x'].map({'  T' : 0} )\n",
    "X['PrecipTotal_y'] = X['PrecipTotal_y'].map({'  T' : 0} )"
   ]
  },
  {
   "cell_type": "code",
   "execution_count": 49,
   "metadata": {
    "collapsed": true
   },
   "outputs": [],
   "source": [
    "X['PrecipTotal_y'].fillna(X['PrecipTotal_y'].mean(), inplace=True)\n",
    "X['PrecipTotal_x'].fillna(X['PrecipTotal_x'].mean(), inplace=True)\n",
    "X['SnowFall_x'].fillna(X['SnowFall_x'].mean(), inplace=True)"
   ]
  },
  {
   "cell_type": "code",
   "execution_count": 50,
   "metadata": {
    "collapsed": false
   },
   "outputs": [
    {
     "data": {
      "text/html": [
       "<div>\n",
       "<table border=\"1\" class=\"dataframe\">\n",
       "  <thead>\n",
       "    <tr style=\"text-align: right;\">\n",
       "      <th></th>\n",
       "      <th>Date</th>\n",
       "      <th>Species</th>\n",
       "      <th>AddressAccuracy</th>\n",
       "      <th>NumMosquitos</th>\n",
       "      <th>Tmax_x</th>\n",
       "      <th>Tmin_x</th>\n",
       "      <th>Tavg_x</th>\n",
       "      <th>Depart_x</th>\n",
       "      <th>DewPoint_x</th>\n",
       "      <th>WetBulb_x</th>\n",
       "      <th>Heat_x</th>\n",
       "      <th>Cool_x</th>\n",
       "      <th>Sunrise_x</th>\n",
       "      <th>Sunset_x</th>\n",
       "      <th>Depth_x</th>\n",
       "      <th>Water1_x</th>\n",
       "      <th>SnowFall_x</th>\n",
       "      <th>PrecipTotal_x</th>\n",
       "      <th>StnPressure_x</th>\n",
       "      <th>SeaLevel_x</th>\n",
       "      <th>ResultSpeed_x</th>\n",
       "      <th>ResultDir_x</th>\n",
       "      <th>AvgSpeed_x</th>\n",
       "      <th>Tmax_y</th>\n",
       "      <th>Tmin_y</th>\n",
       "      <th>Tavg_y</th>\n",
       "      <th>Depart_y</th>\n",
       "      <th>DewPoint_y</th>\n",
       "      <th>WetBulb_y</th>\n",
       "      <th>Heat_y</th>\n",
       "      <th>Cool_y</th>\n",
       "      <th>Sunrise_y</th>\n",
       "      <th>Sunset_y</th>\n",
       "      <th>Depth_y</th>\n",
       "      <th>Water1_y</th>\n",
       "      <th>SnowFall_y</th>\n",
       "      <th>PrecipTotal_y</th>\n",
       "      <th>StnPressure_y</th>\n",
       "      <th>SeaLevel_y</th>\n",
       "      <th>ResultSpeed_y</th>\n",
       "      <th>ResultDir_y</th>\n",
       "      <th>AvgSpeed_y</th>\n",
       "    </tr>\n",
       "  </thead>\n",
       "  <tbody>\n",
       "    <tr>\n",
       "      <th>0</th>\n",
       "      <td>2007-05-29</td>\n",
       "      <td>0</td>\n",
       "      <td>9</td>\n",
       "      <td>1</td>\n",
       "      <td>88</td>\n",
       "      <td>60</td>\n",
       "      <td>74</td>\n",
       "      <td>10</td>\n",
       "      <td>58</td>\n",
       "      <td>65</td>\n",
       "      <td>0</td>\n",
       "      <td>9</td>\n",
       "      <td>421</td>\n",
       "      <td>1917</td>\n",
       "      <td>0</td>\n",
       "      <td>0</td>\n",
       "      <td>1.0</td>\n",
       "      <td>0.0</td>\n",
       "      <td>29.39</td>\n",
       "      <td>30.11</td>\n",
       "      <td>5.8</td>\n",
       "      <td>18</td>\n",
       "      <td>6.5</td>\n",
       "      <td>88</td>\n",
       "      <td>65</td>\n",
       "      <td>77</td>\n",
       "      <td>0</td>\n",
       "      <td>59</td>\n",
       "      <td>66</td>\n",
       "      <td>0</td>\n",
       "      <td>12</td>\n",
       "      <td>0</td>\n",
       "      <td>0</td>\n",
       "      <td>0</td>\n",
       "      <td>0</td>\n",
       "      <td>0</td>\n",
       "      <td>0.0</td>\n",
       "      <td>29.44</td>\n",
       "      <td>30.09</td>\n",
       "      <td>5.8</td>\n",
       "      <td>16</td>\n",
       "      <td>7.4</td>\n",
       "    </tr>\n",
       "  </tbody>\n",
       "</table>\n",
       "</div>"
      ],
      "text/plain": [
       "         Date  Species  AddressAccuracy  NumMosquitos  Tmax_x  Tmin_x  Tavg_x  \\\n",
       "0  2007-05-29        0                9             1      88      60      74   \n",
       "\n",
       "   Depart_x  DewPoint_x  WetBulb_x  Heat_x  Cool_x  Sunrise_x  Sunset_x  \\\n",
       "0        10          58         65       0       9        421      1917   \n",
       "\n",
       "   Depth_x  Water1_x  SnowFall_x  PrecipTotal_x  StnPressure_x  SeaLevel_x  \\\n",
       "0        0         0         1.0            0.0          29.39       30.11   \n",
       "\n",
       "   ResultSpeed_x  ResultDir_x  AvgSpeed_x  Tmax_y  Tmin_y  Tavg_y  Depart_y  \\\n",
       "0            5.8           18         6.5      88      65      77         0   \n",
       "\n",
       "   DewPoint_y  WetBulb_y  Heat_y  Cool_y  Sunrise_y  Sunset_y  Depth_y  \\\n",
       "0          59         66       0      12          0         0        0   \n",
       "\n",
       "   Water1_y  SnowFall_y  PrecipTotal_y  StnPressure_y  SeaLevel_y  \\\n",
       "0         0           0            0.0          29.44       30.09   \n",
       "\n",
       "   ResultSpeed_y  ResultDir_y  AvgSpeed_y  \n",
       "0            5.8           16         7.4  "
      ]
     },
     "execution_count": 50,
     "metadata": {},
     "output_type": "execute_result"
    }
   ],
   "source": [
    "X.head(1)"
   ]
  },
  {
   "cell_type": "code",
   "execution_count": 51,
   "metadata": {
    "collapsed": true
   },
   "outputs": [],
   "source": [
    "# Scale year, runtime, and gross columns to values between 0 and 1. Our minimum will now be 0 and max will be 1\n",
    "\n",
    "scale = StandardScaler()\n",
    "\n",
    "X.ix[:,1:] = scale.fit_transform(X.ix[:,1:].as_matrix())"
   ]
  },
  {
   "cell_type": "code",
   "execution_count": 52,
   "metadata": {
    "collapsed": true
   },
   "outputs": [],
   "source": [
    "def create_month(x):\n",
    "    return x.split('-')[1]\n",
    "\n",
    "def create_day(x):\n",
    "    return x.split('-')[2]\n",
    "\n",
    "X['month'] = X.Date.apply(create_month)\n",
    "X['day'] = X.Date.apply(create_day)\n",
    "# test['month'] = test.Date.apply(create_month)\n",
    "# test['day'] = test.Date.apply(create_day)"
   ]
  },
  {
   "cell_type": "code",
   "execution_count": 53,
   "metadata": {
    "collapsed": true
   },
   "outputs": [],
   "source": [
    "X['Date'] = pd.to_datetime(X['Date'])\n",
    "X.set_index('Date', inplace=True)"
   ]
  },
  {
   "cell_type": "code",
   "execution_count": 54,
   "metadata": {
    "collapsed": false
   },
   "outputs": [
    {
     "data": {
      "text/html": [
       "<div>\n",
       "<table border=\"1\" class=\"dataframe\">\n",
       "  <thead>\n",
       "    <tr style=\"text-align: right;\">\n",
       "      <th></th>\n",
       "      <th>Species</th>\n",
       "      <th>AddressAccuracy</th>\n",
       "      <th>NumMosquitos</th>\n",
       "      <th>Tmax_x</th>\n",
       "      <th>Tmin_x</th>\n",
       "      <th>Tavg_x</th>\n",
       "      <th>Depart_x</th>\n",
       "      <th>DewPoint_x</th>\n",
       "      <th>WetBulb_x</th>\n",
       "      <th>Heat_x</th>\n",
       "      <th>Cool_x</th>\n",
       "      <th>Sunrise_x</th>\n",
       "      <th>Sunset_x</th>\n",
       "      <th>Depth_x</th>\n",
       "      <th>Water1_x</th>\n",
       "      <th>SnowFall_x</th>\n",
       "      <th>PrecipTotal_x</th>\n",
       "      <th>StnPressure_x</th>\n",
       "      <th>SeaLevel_x</th>\n",
       "      <th>ResultSpeed_x</th>\n",
       "      <th>ResultDir_x</th>\n",
       "      <th>AvgSpeed_x</th>\n",
       "      <th>Tmax_y</th>\n",
       "      <th>Tmin_y</th>\n",
       "      <th>Tavg_y</th>\n",
       "      <th>Depart_y</th>\n",
       "      <th>DewPoint_y</th>\n",
       "      <th>WetBulb_y</th>\n",
       "      <th>Heat_y</th>\n",
       "      <th>Cool_y</th>\n",
       "      <th>Sunrise_y</th>\n",
       "      <th>Sunset_y</th>\n",
       "      <th>Depth_y</th>\n",
       "      <th>Water1_y</th>\n",
       "      <th>SnowFall_y</th>\n",
       "      <th>PrecipTotal_y</th>\n",
       "      <th>StnPressure_y</th>\n",
       "      <th>SeaLevel_y</th>\n",
       "      <th>ResultSpeed_y</th>\n",
       "      <th>ResultDir_y</th>\n",
       "      <th>AvgSpeed_y</th>\n",
       "      <th>month</th>\n",
       "      <th>day</th>\n",
       "    </tr>\n",
       "    <tr>\n",
       "      <th>Date</th>\n",
       "      <th></th>\n",
       "      <th></th>\n",
       "      <th></th>\n",
       "      <th></th>\n",
       "      <th></th>\n",
       "      <th></th>\n",
       "      <th></th>\n",
       "      <th></th>\n",
       "      <th></th>\n",
       "      <th></th>\n",
       "      <th></th>\n",
       "      <th></th>\n",
       "      <th></th>\n",
       "      <th></th>\n",
       "      <th></th>\n",
       "      <th></th>\n",
       "      <th></th>\n",
       "      <th></th>\n",
       "      <th></th>\n",
       "      <th></th>\n",
       "      <th></th>\n",
       "      <th></th>\n",
       "      <th></th>\n",
       "      <th></th>\n",
       "      <th></th>\n",
       "      <th></th>\n",
       "      <th></th>\n",
       "      <th></th>\n",
       "      <th></th>\n",
       "      <th></th>\n",
       "      <th></th>\n",
       "      <th></th>\n",
       "      <th></th>\n",
       "      <th></th>\n",
       "      <th></th>\n",
       "      <th></th>\n",
       "      <th></th>\n",
       "      <th></th>\n",
       "      <th></th>\n",
       "      <th></th>\n",
       "      <th></th>\n",
       "      <th></th>\n",
       "      <th></th>\n",
       "    </tr>\n",
       "  </thead>\n",
       "  <tbody>\n",
       "    <tr>\n",
       "      <th>2007-05-29</th>\n",
       "      <td>-0.919444</td>\n",
       "      <td>0.812518</td>\n",
       "      <td>-0.734735</td>\n",
       "      <td>0.743177</td>\n",
       "      <td>-0.353804</td>\n",
       "      <td>0.195324</td>\n",
       "      <td>1.119269</td>\n",
       "      <td>-0.226003</td>\n",
       "      <td>0.103451</td>\n",
       "      <td>-0.334667</td>\n",
       "      <td>0.090195</td>\n",
       "      <td>-1.04277</td>\n",
       "      <td>0.730449</td>\n",
       "      <td>0.0</td>\n",
       "      <td>0.0</td>\n",
       "      <td>0.0</td>\n",
       "      <td>0.0</td>\n",
       "      <td>0.144479</td>\n",
       "      <td>1.232792</td>\n",
       "      <td>-0.062224</td>\n",
       "      <td>0.050468</td>\n",
       "      <td>-0.365605</td>\n",
       "      <td>0.724421</td>\n",
       "      <td>0.057032</td>\n",
       "      <td>0.468081</td>\n",
       "      <td>0.0</td>\n",
       "      <td>-0.074667</td>\n",
       "      <td>0.155786</td>\n",
       "      <td>-0.319271</td>\n",
       "      <td>0.459789</td>\n",
       "      <td>0.0</td>\n",
       "      <td>0.0</td>\n",
       "      <td>0.0</td>\n",
       "      <td>0.0</td>\n",
       "      <td>0.0</td>\n",
       "      <td>0.0</td>\n",
       "      <td>1.140441</td>\n",
       "      <td>1.150732</td>\n",
       "      <td>-0.036184</td>\n",
       "      <td>-0.194514</td>\n",
       "      <td>-0.028583</td>\n",
       "      <td>05</td>\n",
       "      <td>29</td>\n",
       "    </tr>\n",
       "  </tbody>\n",
       "</table>\n",
       "</div>"
      ],
      "text/plain": [
       "             Species  AddressAccuracy  NumMosquitos    Tmax_x    Tmin_x  \\\n",
       "Date                                                                      \n",
       "2007-05-29 -0.919444         0.812518     -0.734735  0.743177 -0.353804   \n",
       "\n",
       "              Tavg_x  Depart_x  DewPoint_x  WetBulb_x    Heat_x    Cool_x  \\\n",
       "Date                                                                        \n",
       "2007-05-29  0.195324  1.119269   -0.226003   0.103451 -0.334667  0.090195   \n",
       "\n",
       "            Sunrise_x  Sunset_x  Depth_x  Water1_x  SnowFall_x  PrecipTotal_x  \\\n",
       "Date                                                                            \n",
       "2007-05-29   -1.04277  0.730449      0.0       0.0         0.0            0.0   \n",
       "\n",
       "            StnPressure_x  SeaLevel_x  ResultSpeed_x  ResultDir_x  AvgSpeed_x  \\\n",
       "Date                                                                            \n",
       "2007-05-29       0.144479    1.232792      -0.062224     0.050468   -0.365605   \n",
       "\n",
       "              Tmax_y    Tmin_y    Tavg_y  Depart_y  DewPoint_y  WetBulb_y  \\\n",
       "Date                                                                        \n",
       "2007-05-29  0.724421  0.057032  0.468081       0.0   -0.074667   0.155786   \n",
       "\n",
       "              Heat_y    Cool_y  Sunrise_y  Sunset_y  Depth_y  Water1_y  \\\n",
       "Date                                                                     \n",
       "2007-05-29 -0.319271  0.459789        0.0       0.0      0.0       0.0   \n",
       "\n",
       "            SnowFall_y  PrecipTotal_y  StnPressure_y  SeaLevel_y  \\\n",
       "Date                                                               \n",
       "2007-05-29         0.0            0.0       1.140441    1.150732   \n",
       "\n",
       "            ResultSpeed_y  ResultDir_y  AvgSpeed_y month day  \n",
       "Date                                                          \n",
       "2007-05-29      -0.036184    -0.194514   -0.028583    05  29  "
      ]
     },
     "execution_count": 54,
     "metadata": {},
     "output_type": "execute_result"
    }
   ],
   "source": [
    "X.head(1)"
   ]
  },
  {
   "cell_type": "code",
   "execution_count": 56,
   "metadata": {
    "collapsed": false
   },
   "outputs": [],
   "source": [
    "le = LabelEncoder()\n",
    "y = le.fit_transform(y)"
   ]
  },
  {
   "cell_type": "code",
   "execution_count": 57,
   "metadata": {
    "collapsed": true
   },
   "outputs": [],
   "source": [
    "X_train, X_test, y_train, y_test = train_test_split(X, y, test_size=0.3, random_state=42)"
   ]
  },
  {
   "cell_type": "code",
   "execution_count": 58,
   "metadata": {
    "collapsed": true
   },
   "outputs": [],
   "source": [
    "#Initiate GridSearch - it just may be that it's not max_depth that will get us the best model, but a certain\n",
    "#combination of the model's possible parameters\n",
    "\n",
    "PARAMETERS = {'max_depth':[1,2,3,4,5,6], 'max_features':[1,2,3,4], \n",
    "              'max_leaf_nodes':[5,6,7,8,9,10], 'min_samples_leaf':[1,2,3,4],\n",
    "              'min_samples_split':[1,2,3,4]}\n",
    "SCORING = 'mean_squared_error'"
   ]
  },
  {
   "cell_type": "code",
   "execution_count": 59,
   "metadata": {
    "collapsed": false
   },
   "outputs": [
    {
     "name": "stdout",
     "output_type": "stream",
     "text": [
      "DecisionTreeClassifier(class_weight=None, criterion='gini', max_depth=1,\n",
      "            max_features=1, max_leaf_nodes=5, min_samples_leaf=1,\n",
      "            min_samples_split=2, min_weight_fraction_leaf=0.0,\n",
      "            presort=False, random_state=None, splitter='best')\n",
      "-0.0524462212069\n",
      "0.229011399731\n"
     ]
    }
   ],
   "source": [
    "#We use Grid Search to find optimal values for each paramter\n",
    "\n",
    "clfModel = DecisionTreeClassifier()\n",
    "clf = GridSearchCV(clfModel, PARAMETERS, scoring=SCORING, n_jobs=-1)\n",
    "clf.fit(X, y)\n",
    "\n",
    "# #After completion, show the final best results and scores\n",
    "print clf.best_estimator_\n",
    "print clf.best_score_\n",
    "print np.sqrt(-clf.best_score_)"
   ]
  },
  {
   "cell_type": "code",
   "execution_count": 60,
   "metadata": {
    "collapsed": false
   },
   "outputs": [
    {
     "data": {
      "text/plain": [
       "DecisionTreeClassifier(class_weight=None, criterion='gini', max_depth=1,\n",
       "            max_features=1, max_leaf_nodes=5, min_samples_leaf=1,\n",
       "            min_samples_split=2, min_weight_fraction_leaf=0.0,\n",
       "            presort=False, random_state=8, splitter='best')"
      ]
     },
     "execution_count": 60,
     "metadata": {},
     "output_type": "execute_result"
    }
   ],
   "source": [
    "# GridSearch provides us with the optimal parameters, so we fit our model with those parameters to the training set\n",
    "\n",
    "treeclf = DecisionTreeClassifier(class_weight=None, criterion='gini', max_depth=1,\n",
    "            max_features=1, max_leaf_nodes=5, min_samples_leaf=1,\n",
    "            min_samples_split=2, min_weight_fraction_leaf=0.0,\n",
    "            presort=False, random_state=8, splitter='best')\n",
    "treeclf.fit(X_train, y_train)"
   ]
  },
  {
   "cell_type": "code",
   "execution_count": 61,
   "metadata": {
    "collapsed": false
   },
   "outputs": [
    {
     "data": {
      "image/png": "[encoded data removed]",
      "text/plain": [
       "<IPython.core.display.Image object>"
      ]
     },
     "execution_count": 61,
     "metadata": {},
     "output_type": "execute_result"
    }
   ],
   "source": [
    "# Review this tree with our normal classifier, but explain why these aren't great, leading into our use of ensemble\n",
    "# in the steps below\n",
    "\n",
    "dot_data = StringIO()  \n",
    "export_graphviz(treeclf, out_file=dot_data,  \n",
    "                feature_names=X.columns,  \n",
    "                filled=True, rounded=True,  \n",
    "                special_characters=True)  \n",
    "graph = pydot.graph_from_dot_data(dot_data.getvalue())  \n",
    "Image(graph[0].create_png())"
   ]
  },
  {
   "cell_type": "code",
   "execution_count": 62,
   "metadata": {
    "collapsed": false
   },
   "outputs": [
    {
     "name": "stdout",
     "output_type": "stream",
     "text": [
      "[0 0 0 ..., 0 0 0]\n"
     ]
    }
   ],
   "source": [
    "# predict class labels for the test set\n",
    "predicted = treeclf.predict(X_test)\n",
    "print predicted"
   ]
  },
  {
   "cell_type": "code",
   "execution_count": 63,
   "metadata": {
    "collapsed": true
   },
   "outputs": [],
   "source": [
    "# generate class probabilities - this will be useful for our confusion plot below\n",
    "probs = treeclf.predict_proba(X_test)"
   ]
  },
  {
   "cell_type": "code",
   "execution_count": 66,
   "metadata": {
    "collapsed": false
   },
   "outputs": [
    {
     "name": "stdout",
     "output_type": "stream",
     "text": [
      "{'max_features': 1, 'max_leaf_nodes': 5, 'min_samples_split': 1, 'max_depth': 1, 'min_samples_leaf': 1}\n",
      "RandomForestClassifier(bootstrap=True, class_weight=None, criterion='gini',\n",
      "            max_depth=1, max_features=1, max_leaf_nodes=5,\n",
      "            min_samples_leaf=1, min_samples_split=1,\n",
      "            min_weight_fraction_leaf=0.0, n_estimators=50, n_jobs=-1,\n",
      "            oob_score=True, random_state=None, verbose=0, warm_start=False)\n"
     ]
    }
   ],
   "source": [
    "# rfc = RandomForestClassifier(n_jobs=-1, max_features= 'sqrt', n_estimators=50, oob_score = True) \n",
    "\n",
    "# CV_rfc = GridSearchCV(rfc, PARAMETERS, scoring=SCORING, cv= 5)\n",
    "# CV_rfc.fit(X, y)\n",
    "# print CV_rfc.best_params_\n",
    "# print CV_rfc.best_estimator_"
   ]
  },
  {
   "cell_type": "code",
   "execution_count": 338,
   "metadata": {
    "collapsed": false
   },
   "outputs": [
    {
     "data": {
      "text/plain": [
       "RandomForestClassifier(bootstrap=True, class_weight=None, criterion='gini',\n",
       "            max_depth=1, max_features=1, max_leaf_nodes=5,\n",
       "            min_samples_leaf=1, min_samples_split=1,\n",
       "            min_weight_fraction_leaf=0.0, n_estimators=50, n_jobs=-1,\n",
       "            oob_score=True, random_state=63, verbose=0, warm_start=False)"
      ]
     },
     "execution_count": 338,
     "metadata": {},
     "output_type": "execute_result"
    }
   ],
   "source": [
    "rfClf = RandomForestClassifier(bootstrap=True, class_weight=None, criterion='gini',\n",
    "            max_depth=1, max_features=1, max_leaf_nodes=5,\n",
    "            min_samples_leaf=1, min_samples_split=1,\n",
    "            min_weight_fraction_leaf=0.0, n_estimators=50, n_jobs=-1,\n",
    "            oob_score=True, random_state=63, verbose=0, warm_start=False)\n",
    "\n",
    "rfClf.fit(X_train, y_train)"
   ]
  },
  {
   "cell_type": "code",
   "execution_count": 339,
   "metadata": {
    "collapsed": false
   },
   "outputs": [
    {
     "name": "stdout",
     "output_type": "stream",
     "text": [
      "[0 0 0 ..., 0 0 0]\n"
     ]
    }
   ],
   "source": [
    "rfPreds = rfClf.predict(X_test)\n",
    "print rfPreds\n",
    "\n",
    "rfProbs = rfClf.predict_proba(X_test)"
   ]
  },
  {
   "cell_type": "code",
   "execution_count": 341,
   "metadata": {
    "collapsed": false
   },
   "outputs": [
    {
     "data": {
      "text/plain": [
       "AdaBoostClassifier(algorithm='SAMME',\n",
       "          base_estimator=DecisionTreeClassifier(class_weight=None, criterion='gini', max_depth=1,\n",
       "            max_features=None, max_leaf_nodes=None, min_samples_leaf=1,\n",
       "            min_samples_split=2, min_weight_fraction_leaf=0.0,\n",
       "            presort=False, random_state=None, splitter='best'),\n",
       "          learning_rate=1.0, n_estimators=200, random_state=None)"
      ]
     },
     "execution_count": 341,
     "metadata": {},
     "output_type": "execute_result"
    }
   ],
   "source": [
    "# Create and fit an AdaBoosted decision tree\n",
    "bdt = AdaBoostClassifier(DecisionTreeClassifier(max_depth=1),\n",
    "                         algorithm=\"SAMME\",\n",
    "                         n_estimators=200)\n",
    "\n",
    "bdt.fit(X, y)\n"
   ]
  },
  {
   "cell_type": "code",
   "execution_count": 346,
   "metadata": {
    "collapsed": false
   },
   "outputs": [
    {
     "data": {
      "text/plain": [
       "AdaBoostClassifier(algorithm='SAMME',\n",
       "          base_estimator=DecisionTreeClassifier(class_weight=None, criterion='gini', max_depth=1,\n",
       "            max_features=None, max_leaf_nodes=None, min_samples_leaf=1,\n",
       "            min_samples_split=2, min_weight_fraction_leaf=0.0,\n",
       "            presort=False, random_state=5, splitter='best'),\n",
       "          learning_rate=1.0, n_estimators=200, random_state=None)"
      ]
     },
     "execution_count": 346,
     "metadata": {},
     "output_type": "execute_result"
    }
   ],
   "source": [
    "ada = AdaBoostClassifier(algorithm='SAMME',\n",
    "          base_estimator=DecisionTreeClassifier(class_weight=None, criterion='gini', max_depth=1,\n",
    "            max_features=None, max_leaf_nodes=None, min_samples_leaf=1,\n",
    "            min_samples_split=2, min_weight_fraction_leaf=0.0,\n",
    "            presort=False, random_state=5, splitter='best'),\n",
    "          learning_rate=1.0, n_estimators=200, random_state=None)\n",
    "\n",
    "ada.fit(X_train, y_train)"
   ]
  },
  {
   "cell_type": "code",
   "execution_count": 347,
   "metadata": {
    "collapsed": false
   },
   "outputs": [
    {
     "name": "stdout",
     "output_type": "stream",
     "text": [
      "[0 0 0 ..., 0 0 0]\n",
      "The AdaBoost Classifier's accuracy score is 0.947335025381\n",
      "The AdaBoost Classifier's area under the curve is 0.863045618509\n"
     ]
    }
   ],
   "source": [
    "adaPreds = ada.predict(X_test)\n",
    "print rfPreds\n",
    "\n",
    "adaProbs = ada.predict_proba(X_test)\n",
    "\n",
    "print \"The AdaBoost Classifier's accuracy score is\", metrics.accuracy_score(y_test, adaPreds)\n",
    "print \"The AdaBoost Classifier's area under the curve is\", metrics.roc_auc_score(y_test, adaProbs[:, 1])"
   ]
  },
  {
   "cell_type": "code",
   "execution_count": 348,
   "metadata": {
    "collapsed": false
   },
   "outputs": [
    {
     "name": "stdout",
     "output_type": "stream",
     "text": [
      "The Decision Tree Classifier's accuracy score is 0.947335025381\n",
      "The Decision Tree Classifier's area under the curve is 0.755294789338\n",
      " \n",
      "The Random Forest Classifier's accuracy score is 0.947335025381\n",
      "The Random Forest Classifier's area under the curve is 0.831642040365\n",
      "The AdaBoost Classifier's accuracy score is 0.947335025381\n",
      "The AdaBoost Classifier's area under the curve is 0.863045618509\n"
     ]
    }
   ],
   "source": [
    "print \"The Decision Tree Classifier's accuracy score is\", metrics.accuracy_score(y_test, predicted)\n",
    "print \"The Decision Tree Classifier's area under the curve is\", metrics.roc_auc_score(y_test, probs[:, 1])\n",
    "print ' '\n",
    "\n",
    "print \"The Random Forest Classifier's accuracy score is\", metrics.accuracy_score(y_test, rfPreds)\n",
    "print \"The Random Forest Classifier's area under the curve is\", metrics.roc_auc_score(y_test, rfProbs[:, 1])\n",
    "\n",
    "print \"The AdaBoost Classifier's accuracy score is\", metrics.accuracy_score(y_test, adaPreds)\n",
    "print \"The AdaBoost Classifier's area under the curve is\", metrics.roc_auc_score(y_test, adaProbs[:, 1])"
   ]
  },
  {
   "cell_type": "code",
   "execution_count": 349,
   "metadata": {
    "collapsed": false
   },
   "outputs": [
    {
     "name": "stdout",
     "output_type": "stream",
     "text": [
      "[[2986    0]\n",
      " [ 166    0]]\n"
     ]
    }
   ],
   "source": [
    "print confusion_matrix(y_test, predicted)"
   ]
  },
  {
   "cell_type": "code",
   "execution_count": 350,
   "metadata": {
    "collapsed": false
   },
   "outputs": [
    {
     "name": "stdout",
     "output_type": "stream",
     "text": [
      "[[2986    0]\n",
      " [ 166    0]]\n"
     ]
    }
   ],
   "source": [
    "print confusion_matrix(y_test, rfPreds)"
   ]
  },
  {
   "cell_type": "code",
   "execution_count": 351,
   "metadata": {
    "collapsed": false
   },
   "outputs": [
    {
     "name": "stdout",
     "output_type": "stream",
     "text": [
      "[[2986    0]\n",
      " [ 166    0]]\n"
     ]
    }
   ],
   "source": [
    "print confusion_matrix(y_test, adaPreds)"
   ]
  },
  {
   "cell_type": "code",
   "execution_count": 352,
   "metadata": {
    "collapsed": false
   },
   "outputs": [
    {
     "data": {
      "image/png": "[encoded data removed]",
      "text/plain": [
       "<matplotlib.figure.Figure at 0x117a35c50>"
      ]
     },
     "metadata": {},
     "output_type": "display_data"
    }
   ],
   "source": [
    "adaFalse_positive_rate, adaTrue_positive_rate, adaThresholds = metrics.roc_curve(y_test, adaProbs[:, 1])\n",
    "adaRoc_auc = metrics.auc(adaFalse_positive_rate, adaTrue_positive_rate)\n",
    "\n",
    "rfFalse_positive_rate, rfTrue_positive_rate, rfThresholds = metrics.roc_curve(y_test, rfProbs[:, 1])\n",
    "rfRoc_auc = metrics.auc(rfFalse_positive_rate, rfTrue_positive_rate)\n",
    "\n",
    "false_positive_rate, true_positive_rate, thresholds = metrics.roc_curve(y_test, probs[:, 1])\n",
    "roc_auc = metrics.auc(false_positive_rate, true_positive_rate)\n",
    "\n",
    "plt.rcParams['figure.figsize']=17,8\n",
    "plt.title('Receiver Operating Characteristic\\n', fontsize=20)\n",
    "\n",
    "plt.plot(adaFalse_positive_rate, adaTrue_positive_rate, 'b',\n",
    "label='AdaBoost AUC = %0.2f'% adaRoc_auc)\n",
    "\n",
    "plt.plot(rfFalse_positive_rate, rfTrue_positive_rate, 'm',\n",
    "label='RandomForest AUC = %0.2f'% rfRoc_auc)\n",
    "\n",
    "plt.plot(false_positive_rate, true_positive_rate, 'g',\n",
    "label='DecisionTree AUC = %0.2f'% roc_auc)\n",
    "\n",
    "plt.legend(loc=7, fontsize='x-large', )\n",
    "plt.plot([0,1],[0,1],'r--')\n",
    "plt.xlim([-0.1,1.2])\n",
    "plt.ylim([-0.1,1.2])\n",
    "plt.ylabel('True Positive Rate\\n', fontsize=14)\n",
    "plt.xlabel('\\nFalse Positive Rate', fontsize=14)\n",
    "plt.show()"
   ]
  },
  {
   "cell_type": "code",
   "execution_count": 475,
   "metadata": {
    "collapsed": false
   },
   "outputs": [],
   "source": [
    "probDf = pd.DataFrame(rfProbs, columns=['noWN', 'WN'])\n",
    "\n",
    "probDf['actual'] = y_test\n",
    "\n",
    "cmDf = probDf[['actual','WN']]\n",
    "threshold = 0.07\n",
    "\n",
    "cmDf['predicted'] = [1 if i >= threshold else 0 for i in cmDf['WN']]"
   ]
  },
  {
   "cell_type": "code",
   "execution_count": 476,
   "metadata": {
    "collapsed": false
   },
   "outputs": [
    {
     "name": "stdout",
     "output_type": "stream",
     "text": [
      "predicted     0    1\n",
      "actual              \n",
      "0          2516  470\n",
      "1            61  105\n"
     ]
    }
   ],
   "source": [
    "print pd.crosstab(\n",
    "        cmDf['actual'],\n",
    "        cmDf['predicted'], \n",
    "        rownames=['actual'])"
   ]
  },
  {
   "cell_type": "code",
   "execution_count": null,
   "metadata": {
    "collapsed": true
   },
   "outputs": [],
   "source": []
  },
  {
   "cell_type": "code",
   "execution_count": null,
   "metadata": {
    "collapsed": true
   },
   "outputs": [],
   "source": []
  },
  {
   "cell_type": "code",
   "execution_count": null,
   "metadata": {
    "collapsed": true
   },
   "outputs": [],
   "source": []
  },
  {
   "cell_type": "code",
   "execution_count": 464,
   "metadata": {
    "collapsed": false
   },
   "outputs": [
    {
     "data": {
      "text/html": [
       "<div>\n",
       "<table border=\"1\" class=\"dataframe\">\n",
       "  <thead>\n",
       "    <tr style=\"text-align: right;\">\n",
       "      <th></th>\n",
       "      <th>actual</th>\n",
       "      <th>WN</th>\n",
       "      <th>predicted</th>\n",
       "    </tr>\n",
       "  </thead>\n",
       "  <tbody>\n",
       "    <tr>\n",
       "      <th>0</th>\n",
       "      <td>0</td>\n",
       "      <td>0.016064</td>\n",
       "      <td>1</td>\n",
       "    </tr>\n",
       "    <tr>\n",
       "      <th>1</th>\n",
       "      <td>0</td>\n",
       "      <td>0.065214</td>\n",
       "      <td>1</td>\n",
       "    </tr>\n",
       "    <tr>\n",
       "      <th>2</th>\n",
       "      <td>1</td>\n",
       "      <td>0.035740</td>\n",
       "      <td>1</td>\n",
       "    </tr>\n",
       "    <tr>\n",
       "      <th>3</th>\n",
       "      <td>0</td>\n",
       "      <td>0.033910</td>\n",
       "      <td>1</td>\n",
       "    </tr>\n",
       "    <tr>\n",
       "      <th>4</th>\n",
       "      <td>0</td>\n",
       "      <td>0.046256</td>\n",
       "      <td>1</td>\n",
       "    </tr>\n",
       "  </tbody>\n",
       "</table>\n",
       "</div>"
      ],
      "text/plain": [
       "   actual        WN  predicted\n",
       "0       0  0.016064          1\n",
       "1       0  0.065214          1\n",
       "2       1  0.035740          1\n",
       "3       0  0.033910          1\n",
       "4       0  0.046256          1"
      ]
     },
     "execution_count": 464,
     "metadata": {},
     "output_type": "execute_result"
    }
   ],
   "source": [
    "cmDf.head()"
   ]
  },
  {
   "cell_type": "code",
   "execution_count": 457,
   "metadata": {
    "collapsed": false
   },
   "outputs": [
    {
     "data": {
      "text/plain": [
       "actual\n",
       "0    0.323192\n",
       "1    0.374682\n",
       "Name: WN, dtype: float64"
      ]
     },
     "execution_count": 457,
     "metadata": {},
     "output_type": "execute_result"
    }
   ],
   "source": [
    "cmDf.groupby(['actual'])['WN'].min()"
   ]
  },
  {
   "cell_type": "code",
   "execution_count": 458,
   "metadata": {
    "collapsed": false
   },
   "outputs": [
    {
     "data": {
      "text/plain": [
       "actual\n",
       "0    0.473356\n",
       "1    0.473356\n",
       "Name: WN, dtype: float64"
      ]
     },
     "execution_count": 458,
     "metadata": {},
     "output_type": "execute_result"
    }
   ],
   "source": [
    "cmDf.groupby(['actual'])['WN'].max()"
   ]
  },
  {
   "cell_type": "code",
   "execution_count": null,
   "metadata": {
    "collapsed": true
   },
   "outputs": [],
   "source": []
  }
 ],
 "metadata": {
  "kernelspec": {
   "display_name": "Python 2",
   "language": "python",
   "name": "python2"
  },
  "language_info": {
   "codemirror_mode": {
    "name": "ipython",
    "version": 2
   },
   "file_extension": ".py",
   "mimetype": "text/x-python",
   "name": "python",
   "nbconvert_exporter": "python",
   "pygments_lexer": "ipython2",
   "version": "2.7.12"
  }
 },
 "nbformat": 4,
 "nbformat_minor": 0
}
