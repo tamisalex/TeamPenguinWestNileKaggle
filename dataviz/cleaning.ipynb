{
 "cells": [
  {
   "cell_type": "code",
   "execution_count": 85,
   "metadata": {
    "collapsed": true
   },
   "outputs": [],
   "source": [
    "import pandas as pd\n",
    "import numpy as np"
   ]
  },
  {
   "cell_type": "code",
   "execution_count": 86,
   "metadata": {
    "collapsed": false
   },
   "outputs": [
    {
     "name": "stdout",
     "output_type": "stream",
     "text": [
      "/Users/michaelmainzer/Documents/GA/DSI/TeamPenguinWestNileKaggle/dataviz\r\n"
     ]
    }
   ],
   "source": [
    "! pwd"
   ]
  },
  {
   "cell_type": "code",
   "execution_count": 87,
   "metadata": {
    "collapsed": true
   },
   "outputs": [],
   "source": [
    "train = pd.read_csv('../assets/train.csv')"
   ]
  },
  {
   "cell_type": "code",
   "execution_count": 88,
   "metadata": {
    "collapsed": true
   },
   "outputs": [],
   "source": [
    "test = pd.read_csv('../assets/test.csv')"
   ]
  },
  {
   "cell_type": "code",
   "execution_count": 89,
   "metadata": {
    "collapsed": true
   },
   "outputs": [],
   "source": [
    "frames = [train, test]"
   ]
  },
  {
   "cell_type": "code",
   "execution_count": 90,
   "metadata": {
    "collapsed": true
   },
   "outputs": [],
   "source": [
    "chicagoWN = pd.concat(frames)"
   ]
  },
  {
   "cell_type": "code",
   "execution_count": 91,
   "metadata": {
    "collapsed": false
   },
   "outputs": [
    {
     "data": {
      "text/plain": [
       "(10506, 12)"
      ]
     },
     "execution_count": 91,
     "metadata": {},
     "output_type": "execute_result"
    }
   ],
   "source": [
    "train.shape"
   ]
  },
  {
   "cell_type": "code",
   "execution_count": 92,
   "metadata": {
    "collapsed": false
   },
   "outputs": [
    {
     "data": {
      "text/plain": [
       "(116293, 11)"
      ]
     },
     "execution_count": 92,
     "metadata": {},
     "output_type": "execute_result"
    }
   ],
   "source": [
    "test.shape"
   ]
  },
  {
   "cell_type": "code",
   "execution_count": 93,
   "metadata": {
    "collapsed": false
   },
   "outputs": [],
   "source": [
    "chicagoWN.drop(['Id'], axis=1, inplace=True)"
   ]
  },
  {
   "cell_type": "code",
   "execution_count": 94,
   "metadata": {
    "collapsed": false
   },
   "outputs": [],
   "source": [
    "chicagoWN.reset_index(inplace=True)"
   ]
  },
  {
   "cell_type": "code",
   "execution_count": 95,
   "metadata": {
    "collapsed": false
   },
   "outputs": [],
   "source": [
    "spray = pd.read_csv('../assets/spray.csv')"
   ]
  },
  {
   "cell_type": "code",
   "execution_count": 96,
   "metadata": {
    "collapsed": false
   },
   "outputs": [],
   "source": [
    "spray['spray'] = 1"
   ]
  },
  {
   "cell_type": "code",
   "execution_count": 97,
   "metadata": {
    "collapsed": false
   },
   "outputs": [
    {
     "data": {
      "text/html": [
       "<div>\n",
       "<table border=\"1\" class=\"dataframe\">\n",
       "  <thead>\n",
       "    <tr style=\"text-align: right;\">\n",
       "      <th></th>\n",
       "      <th>Date</th>\n",
       "      <th>Time</th>\n",
       "      <th>Latitude</th>\n",
       "      <th>Longitude</th>\n",
       "      <th>spray</th>\n",
       "    </tr>\n",
       "  </thead>\n",
       "  <tbody>\n",
       "    <tr>\n",
       "      <th>0</th>\n",
       "      <td>2011-08-29</td>\n",
       "      <td>6:56:58 PM</td>\n",
       "      <td>42.391623</td>\n",
       "      <td>-88.089163</td>\n",
       "      <td>1</td>\n",
       "    </tr>\n",
       "    <tr>\n",
       "      <th>1</th>\n",
       "      <td>2011-08-29</td>\n",
       "      <td>6:57:08 PM</td>\n",
       "      <td>42.391348</td>\n",
       "      <td>-88.089163</td>\n",
       "      <td>1</td>\n",
       "    </tr>\n",
       "    <tr>\n",
       "      <th>2</th>\n",
       "      <td>2011-08-29</td>\n",
       "      <td>6:57:18 PM</td>\n",
       "      <td>42.391022</td>\n",
       "      <td>-88.089157</td>\n",
       "      <td>1</td>\n",
       "    </tr>\n",
       "    <tr>\n",
       "      <th>3</th>\n",
       "      <td>2011-08-29</td>\n",
       "      <td>6:57:28 PM</td>\n",
       "      <td>42.390637</td>\n",
       "      <td>-88.089158</td>\n",
       "      <td>1</td>\n",
       "    </tr>\n",
       "    <tr>\n",
       "      <th>4</th>\n",
       "      <td>2011-08-29</td>\n",
       "      <td>6:57:38 PM</td>\n",
       "      <td>42.390410</td>\n",
       "      <td>-88.088858</td>\n",
       "      <td>1</td>\n",
       "    </tr>\n",
       "    <tr>\n",
       "      <th>5</th>\n",
       "      <td>2011-08-29</td>\n",
       "      <td>6:57:48 PM</td>\n",
       "      <td>42.390395</td>\n",
       "      <td>-88.088315</td>\n",
       "      <td>1</td>\n",
       "    </tr>\n",
       "    <tr>\n",
       "      <th>6</th>\n",
       "      <td>2011-08-29</td>\n",
       "      <td>6:57:58 PM</td>\n",
       "      <td>42.390673</td>\n",
       "      <td>-88.088002</td>\n",
       "      <td>1</td>\n",
       "    </tr>\n",
       "    <tr>\n",
       "      <th>7</th>\n",
       "      <td>2011-08-29</td>\n",
       "      <td>6:58:08 PM</td>\n",
       "      <td>42.391027</td>\n",
       "      <td>-88.088002</td>\n",
       "      <td>1</td>\n",
       "    </tr>\n",
       "    <tr>\n",
       "      <th>8</th>\n",
       "      <td>2011-08-29</td>\n",
       "      <td>6:58:18 PM</td>\n",
       "      <td>42.391403</td>\n",
       "      <td>-88.088003</td>\n",
       "      <td>1</td>\n",
       "    </tr>\n",
       "    <tr>\n",
       "      <th>9</th>\n",
       "      <td>2011-08-29</td>\n",
       "      <td>6:58:28 PM</td>\n",
       "      <td>42.391718</td>\n",
       "      <td>-88.087995</td>\n",
       "      <td>1</td>\n",
       "    </tr>\n",
       "  </tbody>\n",
       "</table>\n",
       "</div>"
      ],
      "text/plain": [
       "         Date        Time   Latitude  Longitude  spray\n",
       "0  2011-08-29  6:56:58 PM  42.391623 -88.089163      1\n",
       "1  2011-08-29  6:57:08 PM  42.391348 -88.089163      1\n",
       "2  2011-08-29  6:57:18 PM  42.391022 -88.089157      1\n",
       "3  2011-08-29  6:57:28 PM  42.390637 -88.089158      1\n",
       "4  2011-08-29  6:57:38 PM  42.390410 -88.088858      1\n",
       "5  2011-08-29  6:57:48 PM  42.390395 -88.088315      1\n",
       "6  2011-08-29  6:57:58 PM  42.390673 -88.088002      1\n",
       "7  2011-08-29  6:58:08 PM  42.391027 -88.088002      1\n",
       "8  2011-08-29  6:58:18 PM  42.391403 -88.088003      1\n",
       "9  2011-08-29  6:58:28 PM  42.391718 -88.087995      1"
      ]
     },
     "execution_count": 97,
     "metadata": {},
     "output_type": "execute_result"
    }
   ],
   "source": [
    "spray.head(10)"
   ]
  },
  {
   "cell_type": "code",
   "execution_count": 98,
   "metadata": {
    "collapsed": false
   },
   "outputs": [
    {
     "data": {
      "text/plain": [
       "Date          object\n",
       "Time          object\n",
       "Latitude     float64\n",
       "Longitude    float64\n",
       "spray          int64\n",
       "dtype: object"
      ]
     },
     "execution_count": 98,
     "metadata": {},
     "output_type": "execute_result"
    }
   ],
   "source": [
    "spray.dtypes"
   ]
  },
  {
   "cell_type": "code",
   "execution_count": 99,
   "metadata": {
    "collapsed": false
   },
   "outputs": [],
   "source": [
    "chicagoWN.drop(['index'], axis=1, inplace=True)"
   ]
  },
  {
   "cell_type": "code",
   "execution_count": 108,
   "metadata": {
    "collapsed": false
   },
   "outputs": [],
   "source": [
    "chicagoWN.sort_values(by='Date', inplace=True)"
   ]
  },
  {
   "cell_type": "code",
   "execution_count": 109,
   "metadata": {
    "collapsed": false
   },
   "outputs": [
    {
     "data": {
      "text/html": [
       "<div>\n",
       "<table border=\"1\" class=\"dataframe\">\n",
       "  <thead>\n",
       "    <tr style=\"text-align: right;\">\n",
       "      <th></th>\n",
       "      <th>Address</th>\n",
       "      <th>AddressAccuracy</th>\n",
       "      <th>AddressNumberAndStreet</th>\n",
       "      <th>Block</th>\n",
       "      <th>Date</th>\n",
       "      <th>Latitude</th>\n",
       "      <th>Longitude</th>\n",
       "      <th>NumMosquitos</th>\n",
       "      <th>Species</th>\n",
       "      <th>Street</th>\n",
       "      <th>Time</th>\n",
       "      <th>Trap</th>\n",
       "      <th>WnvPresent</th>\n",
       "      <th>spray</th>\n",
       "    </tr>\n",
       "  </thead>\n",
       "  <tbody>\n",
       "    <tr>\n",
       "      <th>0</th>\n",
       "      <td>4100 North Oak Park Avenue, Chicago, IL 60634,...</td>\n",
       "      <td>9.0</td>\n",
       "      <td>4100  N OAK PARK AVE, Chicago, IL</td>\n",
       "      <td>41.0</td>\n",
       "      <td>2007-05-29</td>\n",
       "      <td>41.954690</td>\n",
       "      <td>-87.800991</td>\n",
       "      <td>1.0</td>\n",
       "      <td>CULEX PIPIENS/RESTUANS</td>\n",
       "      <td>N OAK PARK AVE</td>\n",
       "      <td>NaN</td>\n",
       "      <td>T002</td>\n",
       "      <td>0.0</td>\n",
       "      <td>0</td>\n",
       "    </tr>\n",
       "    <tr>\n",
       "      <th>24</th>\n",
       "      <td>8900 South Carpenter Street, Chicago, IL 60620...</td>\n",
       "      <td>8.0</td>\n",
       "      <td>8900  S CARPENTER ST, Chicago, IL</td>\n",
       "      <td>89.0</td>\n",
       "      <td>2007-05-29</td>\n",
       "      <td>41.732984</td>\n",
       "      <td>-87.649642</td>\n",
       "      <td>1.0</td>\n",
       "      <td>CULEX RESTUANS</td>\n",
       "      <td>S CARPENTER ST</td>\n",
       "      <td>NaN</td>\n",
       "      <td>T159</td>\n",
       "      <td>0.0</td>\n",
       "      <td>0</td>\n",
       "    </tr>\n",
       "    <tr>\n",
       "      <th>23</th>\n",
       "      <td>1500 North Long Avenue, Chicago, IL 60651, USA</td>\n",
       "      <td>8.0</td>\n",
       "      <td>1500  N LONG AVE, Chicago, IL</td>\n",
       "      <td>15.0</td>\n",
       "      <td>2007-05-29</td>\n",
       "      <td>41.907645</td>\n",
       "      <td>-87.760886</td>\n",
       "      <td>1.0</td>\n",
       "      <td>CULEX RESTUANS</td>\n",
       "      <td>N LONG AVE</td>\n",
       "      <td>NaN</td>\n",
       "      <td>T153</td>\n",
       "      <td>0.0</td>\n",
       "      <td>0</td>\n",
       "    </tr>\n",
       "    <tr>\n",
       "      <th>22</th>\n",
       "      <td>7500 North Oakley Avenue, Chicago, IL 60645, USA</td>\n",
       "      <td>8.0</td>\n",
       "      <td>7500  N OAKLEY AVE, Chicago, IL</td>\n",
       "      <td>75.0</td>\n",
       "      <td>2007-05-29</td>\n",
       "      <td>42.017430</td>\n",
       "      <td>-87.687769</td>\n",
       "      <td>1.0</td>\n",
       "      <td>CULEX PIPIENS/RESTUANS</td>\n",
       "      <td>N OAKLEY AVE</td>\n",
       "      <td>NaN</td>\n",
       "      <td>T148</td>\n",
       "      <td>0.0</td>\n",
       "      <td>0</td>\n",
       "    </tr>\n",
       "    <tr>\n",
       "      <th>21</th>\n",
       "      <td>6500 North Oak Park Avenue, Chicago, IL 60631,...</td>\n",
       "      <td>8.0</td>\n",
       "      <td>6500  N OAK PARK AVE, Chicago, IL</td>\n",
       "      <td>65.0</td>\n",
       "      <td>2007-05-29</td>\n",
       "      <td>41.999129</td>\n",
       "      <td>-87.795585</td>\n",
       "      <td>1.0</td>\n",
       "      <td>CULEX PIPIENS/RESTUANS</td>\n",
       "      <td>N OAK PARK AVE</td>\n",
       "      <td>NaN</td>\n",
       "      <td>T143</td>\n",
       "      <td>0.0</td>\n",
       "      <td>0</td>\n",
       "    </tr>\n",
       "  </tbody>\n",
       "</table>\n",
       "</div>"
      ],
      "text/plain": [
       "                                              Address  AddressAccuracy  \\\n",
       "0   4100 North Oak Park Avenue, Chicago, IL 60634,...              9.0   \n",
       "24  8900 South Carpenter Street, Chicago, IL 60620...              8.0   \n",
       "23     1500 North Long Avenue, Chicago, IL 60651, USA              8.0   \n",
       "22   7500 North Oakley Avenue, Chicago, IL 60645, USA              8.0   \n",
       "21  6500 North Oak Park Avenue, Chicago, IL 60631,...              8.0   \n",
       "\n",
       "               AddressNumberAndStreet  Block        Date   Latitude  \\\n",
       "0   4100  N OAK PARK AVE, Chicago, IL   41.0  2007-05-29  41.954690   \n",
       "24  8900  S CARPENTER ST, Chicago, IL   89.0  2007-05-29  41.732984   \n",
       "23      1500  N LONG AVE, Chicago, IL   15.0  2007-05-29  41.907645   \n",
       "22    7500  N OAKLEY AVE, Chicago, IL   75.0  2007-05-29  42.017430   \n",
       "21  6500  N OAK PARK AVE, Chicago, IL   65.0  2007-05-29  41.999129   \n",
       "\n",
       "    Longitude  NumMosquitos                 Species           Street Time  \\\n",
       "0  -87.800991           1.0  CULEX PIPIENS/RESTUANS   N OAK PARK AVE  NaN   \n",
       "24 -87.649642           1.0          CULEX RESTUANS   S CARPENTER ST  NaN   \n",
       "23 -87.760886           1.0          CULEX RESTUANS       N LONG AVE  NaN   \n",
       "22 -87.687769           1.0  CULEX PIPIENS/RESTUANS     N OAKLEY AVE  NaN   \n",
       "21 -87.795585           1.0  CULEX PIPIENS/RESTUANS   N OAK PARK AVE  NaN   \n",
       "\n",
       "    Trap  WnvPresent  spray  \n",
       "0   T002         0.0      0  \n",
       "24  T159         0.0      0  \n",
       "23  T153         0.0      0  \n",
       "22  T148         0.0      0  \n",
       "21  T143         0.0      0  "
      ]
     },
     "execution_count": 109,
     "metadata": {},
     "output_type": "execute_result"
    }
   ],
   "source": [
    "chicagoWN.head()"
   ]
  },
  {
   "cell_type": "code",
   "execution_count": 110,
   "metadata": {
    "collapsed": true
   },
   "outputs": [],
   "source": [
    "chicagoWN.to_csv('../assets/tTrain.csv')"
   ]
  },
  {
   "cell_type": "code",
   "execution_count": 111,
   "metadata": {
    "collapsed": false
   },
   "outputs": [
    {
     "data": {
      "text/plain": [
       "Address                    object\n",
       "AddressAccuracy           float64\n",
       "AddressNumberAndStreet     object\n",
       "Block                     float64\n",
       "Date                       object\n",
       "Latitude                  float64\n",
       "Longitude                 float64\n",
       "NumMosquitos              float64\n",
       "Species                    object\n",
       "Street                     object\n",
       "Time                       object\n",
       "Trap                       object\n",
       "WnvPresent                float64\n",
       "spray                       int64\n",
       "dtype: object"
      ]
     },
     "execution_count": 111,
     "metadata": {},
     "output_type": "execute_result"
    }
   ],
   "source": [
    "chicagoWN.dtypes"
   ]
  },
  {
   "cell_type": "code",
   "execution_count": null,
   "metadata": {
    "collapsed": true
   },
   "outputs": [],
   "source": []
  }
 ],
 "metadata": {
  "kernelspec": {
   "display_name": "Python 2",
   "language": "python",
   "name": "python2"
  },
  "language_info": {
   "codemirror_mode": {
    "name": "ipython",
    "version": 2
   },
   "file_extension": ".py",
   "mimetype": "text/x-python",
   "name": "python",
   "nbconvert_exporter": "python",
   "pygments_lexer": "ipython2",
   "version": "2.7.12"
  }
 },
 "nbformat": 4,
 "nbformat_minor": 0
}
